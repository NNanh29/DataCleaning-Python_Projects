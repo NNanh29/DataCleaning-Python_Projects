{
 "cells": [
  {
   "cell_type": "code",
   "execution_count": 1,
   "id": "e18e477b",
   "metadata": {},
   "outputs": [],
   "source": [
    "import pandas as pd\n",
    "banking=pd.read_csv(r'C:\\Users\\Ngoc Anh\\Downloads\\banking_updated.csv')"
   ]
  },
  {
   "cell_type": "code",
   "execution_count": 2,
   "id": "45d3731d",
   "metadata": {},
   "outputs": [
    {
     "data": {
      "text/html": [
       "<div>\n",
       "<style scoped>\n",
       "    .dataframe tbody tr th:only-of-type {\n",
       "        vertical-align: middle;\n",
       "    }\n",
       "\n",
       "    .dataframe tbody tr th {\n",
       "        vertical-align: top;\n",
       "    }\n",
       "\n",
       "    .dataframe thead th {\n",
       "        text-align: right;\n",
       "    }\n",
       "</style>\n",
       "<table border=\"1\" class=\"dataframe\">\n",
       "  <thead>\n",
       "    <tr style=\"text-align: right;\">\n",
       "      <th></th>\n",
       "      <th>Unnamed: 0</th>\n",
       "      <th>cust_id</th>\n",
       "      <th>birth_date</th>\n",
       "      <th>Age</th>\n",
       "      <th>acct_amount</th>\n",
       "      <th>acct_currency</th>\n",
       "      <th>inv_amount</th>\n",
       "      <th>fund_A</th>\n",
       "      <th>fund_B</th>\n",
       "      <th>fund_C</th>\n",
       "      <th>fund_D</th>\n",
       "      <th>account_opened</th>\n",
       "      <th>last_transaction</th>\n",
       "    </tr>\n",
       "  </thead>\n",
       "  <tbody>\n",
       "    <tr>\n",
       "      <th>0</th>\n",
       "      <td>0</td>\n",
       "      <td>870A9281</td>\n",
       "      <td>09-06-62</td>\n",
       "      <td>58</td>\n",
       "      <td>63523.31</td>\n",
       "      <td>dollar</td>\n",
       "      <td>51295.0</td>\n",
       "      <td>30105.0</td>\n",
       "      <td>4138.0</td>\n",
       "      <td>1420.0</td>\n",
       "      <td>15632.0</td>\n",
       "      <td>02-09-18</td>\n",
       "      <td>22-02-19</td>\n",
       "    </tr>\n",
       "    <tr>\n",
       "      <th>1</th>\n",
       "      <td>1</td>\n",
       "      <td>166B05B0</td>\n",
       "      <td>16-12-62</td>\n",
       "      <td>58</td>\n",
       "      <td>38175.46</td>\n",
       "      <td>dollar</td>\n",
       "      <td>15050.0</td>\n",
       "      <td>4995.0</td>\n",
       "      <td>938.0</td>\n",
       "      <td>6696.0</td>\n",
       "      <td>2421.0</td>\n",
       "      <td>28-02-19</td>\n",
       "      <td>31-10-18</td>\n",
       "    </tr>\n",
       "    <tr>\n",
       "      <th>2</th>\n",
       "      <td>2</td>\n",
       "      <td>BFC13E88</td>\n",
       "      <td>12-09-90</td>\n",
       "      <td>34</td>\n",
       "      <td>59863.77</td>\n",
       "      <td>dollar</td>\n",
       "      <td>24567.0</td>\n",
       "      <td>10323.0</td>\n",
       "      <td>4590.0</td>\n",
       "      <td>8469.0</td>\n",
       "      <td>1185.0</td>\n",
       "      <td>25-04-18</td>\n",
       "      <td>02-04-18</td>\n",
       "    </tr>\n",
       "    <tr>\n",
       "      <th>3</th>\n",
       "      <td>3</td>\n",
       "      <td>F2158F66</td>\n",
       "      <td>03-11-85</td>\n",
       "      <td>35</td>\n",
       "      <td>84132.10</td>\n",
       "      <td>dollar</td>\n",
       "      <td>23712.0</td>\n",
       "      <td>3908.0</td>\n",
       "      <td>492.0</td>\n",
       "      <td>6482.0</td>\n",
       "      <td>12830.0</td>\n",
       "      <td>07-11-17</td>\n",
       "      <td>08-11-18</td>\n",
       "    </tr>\n",
       "    <tr>\n",
       "      <th>4</th>\n",
       "      <td>4</td>\n",
       "      <td>7A73F334</td>\n",
       "      <td>17-05-90</td>\n",
       "      <td>30</td>\n",
       "      <td>120512.00</td>\n",
       "      <td>euro</td>\n",
       "      <td>93230.0</td>\n",
       "      <td>12158.4</td>\n",
       "      <td>51281.0</td>\n",
       "      <td>13434.0</td>\n",
       "      <td>18383.0</td>\n",
       "      <td>14-05-18</td>\n",
       "      <td>19-07-18</td>\n",
       "    </tr>\n",
       "  </tbody>\n",
       "</table>\n",
       "</div>"
      ],
      "text/plain": [
       "   Unnamed: 0   cust_id birth_date  Age  acct_amount acct_currency  \\\n",
       "0           0  870A9281   09-06-62   58     63523.31        dollar   \n",
       "1           1  166B05B0   16-12-62   58     38175.46        dollar   \n",
       "2           2  BFC13E88   12-09-90   34     59863.77        dollar   \n",
       "3           3  F2158F66   03-11-85   35     84132.10        dollar   \n",
       "4           4  7A73F334   17-05-90   30    120512.00          euro   \n",
       "\n",
       "   inv_amount   fund_A   fund_B   fund_C   fund_D account_opened  \\\n",
       "0     51295.0  30105.0   4138.0   1420.0  15632.0       02-09-18   \n",
       "1     15050.0   4995.0    938.0   6696.0   2421.0       28-02-19   \n",
       "2     24567.0  10323.0   4590.0   8469.0   1185.0       25-04-18   \n",
       "3     23712.0   3908.0    492.0   6482.0  12830.0       07-11-17   \n",
       "4     93230.0  12158.4  51281.0  13434.0  18383.0       14-05-18   \n",
       "\n",
       "  last_transaction  \n",
       "0         22-02-19  \n",
       "1         31-10-18  \n",
       "2         02-04-18  \n",
       "3         08-11-18  \n",
       "4         19-07-18  "
      ]
     },
     "execution_count": 2,
     "metadata": {},
     "output_type": "execute_result"
    }
   ],
   "source": [
    "banking.head()"
   ]
  },
  {
   "cell_type": "code",
   "execution_count": 3,
   "id": "0139cb47",
   "metadata": {},
   "outputs": [
    {
     "data": {
      "text/plain": [
       "array(['dollar', 'euro'], dtype=object)"
      ]
     },
     "execution_count": 3,
     "metadata": {},
     "output_type": "execute_result"
    }
   ],
   "source": [
    "#Question 1: Uniform the currency in acct_currency and acct_amount\n",
    "\n",
    "#Print unique values in acct_currency\n",
    "banking['acct_currency'].unique()"
   ]
  },
  {
   "cell_type": "code",
   "execution_count": 4,
   "id": "9ba2cc49",
   "metadata": {},
   "outputs": [],
   "source": [
    "# Find values of acct_cur that are equal to 'euro'\n",
    "\n",
    "acct_eu=banking['acct_currency']=='euro'"
   ]
  },
  {
   "cell_type": "code",
   "execution_count": 8,
   "id": "1694ef20",
   "metadata": {},
   "outputs": [],
   "source": [
    "# Convert acct_amount where it is in euro to dollars\n",
    "banking.loc[banking['acct_currency']=='euro','acct_amount']=banking['acct_amount']*1.1\n"
   ]
  },
  {
   "cell_type": "code",
   "execution_count": 9,
   "id": "25752f2d",
   "metadata": {},
   "outputs": [],
   "source": [
    "# Unify acct_currency column by changing 'euro' values to 'dollar'\n",
    "banking.loc[banking['acct_currency']=='euro','acct_currency']='dollar'"
   ]
  },
  {
   "cell_type": "code",
   "execution_count": 10,
   "id": "38ba159c",
   "metadata": {},
   "outputs": [
    {
     "data": {
      "text/html": [
       "<div>\n",
       "<style scoped>\n",
       "    .dataframe tbody tr th:only-of-type {\n",
       "        vertical-align: middle;\n",
       "    }\n",
       "\n",
       "    .dataframe tbody tr th {\n",
       "        vertical-align: top;\n",
       "    }\n",
       "\n",
       "    .dataframe thead th {\n",
       "        text-align: right;\n",
       "    }\n",
       "</style>\n",
       "<table border=\"1\" class=\"dataframe\">\n",
       "  <thead>\n",
       "    <tr style=\"text-align: right;\">\n",
       "      <th></th>\n",
       "      <th>acct_amount</th>\n",
       "      <th>acct_currency</th>\n",
       "    </tr>\n",
       "  </thead>\n",
       "  <tbody>\n",
       "    <tr>\n",
       "      <th>0</th>\n",
       "      <td>63523.31</td>\n",
       "      <td>dollar</td>\n",
       "    </tr>\n",
       "    <tr>\n",
       "      <th>1</th>\n",
       "      <td>38175.46</td>\n",
       "      <td>dollar</td>\n",
       "    </tr>\n",
       "    <tr>\n",
       "      <th>2</th>\n",
       "      <td>59863.77</td>\n",
       "      <td>dollar</td>\n",
       "    </tr>\n",
       "    <tr>\n",
       "      <th>3</th>\n",
       "      <td>84132.10</td>\n",
       "      <td>dollar</td>\n",
       "    </tr>\n",
       "    <tr>\n",
       "      <th>4</th>\n",
       "      <td>145819.52</td>\n",
       "      <td>dollar</td>\n",
       "    </tr>\n",
       "    <tr>\n",
       "      <th>...</th>\n",
       "      <td>...</td>\n",
       "      <td>...</td>\n",
       "    </tr>\n",
       "    <tr>\n",
       "      <th>95</th>\n",
       "      <td>12209.84</td>\n",
       "      <td>dollar</td>\n",
       "    </tr>\n",
       "    <tr>\n",
       "      <th>96</th>\n",
       "      <td>92838.44</td>\n",
       "      <td>dollar</td>\n",
       "    </tr>\n",
       "    <tr>\n",
       "      <th>97</th>\n",
       "      <td>92750.87</td>\n",
       "      <td>dollar</td>\n",
       "    </tr>\n",
       "    <tr>\n",
       "      <th>98</th>\n",
       "      <td>41942.23</td>\n",
       "      <td>dollar</td>\n",
       "    </tr>\n",
       "    <tr>\n",
       "      <th>99</th>\n",
       "      <td>99490.61</td>\n",
       "      <td>dollar</td>\n",
       "    </tr>\n",
       "  </tbody>\n",
       "</table>\n",
       "<p>100 rows × 2 columns</p>\n",
       "</div>"
      ],
      "text/plain": [
       "    acct_amount acct_currency\n",
       "0      63523.31        dollar\n",
       "1      38175.46        dollar\n",
       "2      59863.77        dollar\n",
       "3      84132.10        dollar\n",
       "4     145819.52        dollar\n",
       "..          ...           ...\n",
       "95     12209.84        dollar\n",
       "96     92838.44        dollar\n",
       "97     92750.87        dollar\n",
       "98     41942.23        dollar\n",
       "99     99490.61        dollar\n",
       "\n",
       "[100 rows x 2 columns]"
      ]
     },
     "execution_count": 10,
     "metadata": {},
     "output_type": "execute_result"
    }
   ],
   "source": [
    "#check the result\n",
    "banking[['acct_amount','acct_currency']]"
   ]
  },
  {
   "cell_type": "code",
   "execution_count": 11,
   "id": "8c415a56",
   "metadata": {},
   "outputs": [
    {
     "data": {
      "text/plain": [
       "0     02-09-18\n",
       "1     28-02-19\n",
       "2     25-04-18\n",
       "3     07-11-17\n",
       "4     14-05-18\n",
       "        ...   \n",
       "95    26-05-18\n",
       "96    04-05-17\n",
       "97    16-08-17\n",
       "98    09-10-17\n",
       "99    01-08-17\n",
       "Name: account_opened, Length: 100, dtype: object"
      ]
     },
     "execution_count": 11,
     "metadata": {},
     "output_type": "execute_result"
    }
   ],
   "source": [
    "#Question 2: Uniform date format in account_opened\n",
    "banking['account_opened']"
   ]
  },
  {
   "cell_type": "code",
   "execution_count": 18,
   "id": "3dce7a07",
   "metadata": {},
   "outputs": [
    {
     "data": {
      "text/plain": [
       "dtype('O')"
      ]
     },
     "execution_count": 18,
     "metadata": {},
     "output_type": "execute_result"
    }
   ],
   "source": [
    "#Convert account_opened into day-month-year format\n",
    "import numpy as np\n",
    "banking['account_opened'].dtype\n"
   ]
  },
  {
   "cell_type": "code",
   "execution_count": 19,
   "id": "ee8ed35b",
   "metadata": {},
   "outputs": [],
   "source": [
    "import datetime as dt"
   ]
  },
  {
   "cell_type": "code",
   "execution_count": 20,
   "id": "1004e93d",
   "metadata": {},
   "outputs": [],
   "source": [
    "banking['account_opened']=pd.to_datetime(banking['account_opened'])"
   ]
  },
  {
   "cell_type": "code",
   "execution_count": 21,
   "id": "df3933ec",
   "metadata": {},
   "outputs": [],
   "source": [
    "banking['account_opened']=banking['account_opened'].dt.strftime('%d-%m-%Y')"
   ]
  },
  {
   "cell_type": "code",
   "execution_count": 22,
   "id": "96e5d5f5",
   "metadata": {},
   "outputs": [
    {
     "data": {
      "text/plain": [
       "0     09-02-2018\n",
       "1     28-02-2019\n",
       "2     25-04-2018\n",
       "3     11-07-2017\n",
       "4     14-05-2018\n",
       "         ...    \n",
       "95    26-05-2018\n",
       "96    05-04-2017\n",
       "97    16-08-2017\n",
       "98    10-09-2017\n",
       "99    08-01-2017\n",
       "Name: account_opened, Length: 100, dtype: object"
      ]
     },
     "execution_count": 22,
     "metadata": {},
     "output_type": "execute_result"
    }
   ],
   "source": [
    "#Check the result\n",
    "banking['account_opened']"
   ]
  },
  {
   "cell_type": "code",
   "execution_count": 23,
   "id": "44b756c0",
   "metadata": {},
   "outputs": [],
   "source": [
    "#Question 3: Find the rows where the sum of all rows of fund_A,fund_B,fund_C,fund_D  are equal to the inv_amount column\n",
    "\n",
    "# Store fund columns to sum against\n",
    "fund_columns = ['fund_A', 'fund_B', 'fund_C', 'fund_D']"
   ]
  },
  {
   "cell_type": "code",
   "execution_count": 25,
   "id": "596abda3",
   "metadata": {},
   "outputs": [],
   "source": [
    "# Find rows where fund_columns row sum == inv_amount\n",
    "inv_equ=banking[fund_columns].sum(axis=1)==banking['inv_amount']"
   ]
  },
  {
   "cell_type": "code",
   "execution_count": 28,
   "id": "01ca80c5",
   "metadata": {},
   "outputs": [],
   "source": [
    "# Store consistent and inconsistent data\n",
    "consistent_data=banking[inv_equ]\n",
    "inconsistent_data=banking[~inv_equ]"
   ]
  },
  {
   "cell_type": "code",
   "execution_count": 30,
   "id": "bbcb4b25",
   "metadata": {},
   "outputs": [
    {
     "name": "stdout",
     "output_type": "stream",
     "text": [
      "    Unnamed: 0   cust_id birth_date  Age  acct_amount acct_currency  \\\n",
      "4            4  7A73F334   17-05-90   30    145819.52        dollar   \n",
      "11          11  DE0A0882   08-10-66   54     99998.35        dollar   \n",
      "12          12  EEBD980F   20-11-90   34     57838.49        dollar   \n",
      "19          19  DEB87C87   28-07-93   27     64944.62        dollar   \n",
      "22          22  96525DA6   23-11-92   28     82511.24        dollar   \n",
      "35          35  078C654F   17-10-93   27     87312.64        dollar   \n",
      "43          43  38B8CD9C   25-06-70   50     28834.71        dollar   \n",
      "44          44  D4C7E817   14-05-92   28     26585.87        dollar   \n",
      "45          45  7A4EED75   05-06-75   45     98923.14        dollar   \n",
      "47          47  68C55974   08-07-62   58     95038.14        dollar   \n",
      "53          53  82E87321   12-11-92   28     97833.54        dollar   \n",
      "58          58  A81D31B3   10-04-70   50     74010.15        dollar   \n",
      "65          65  0A9BA907   21-09-66   54     90469.53        dollar   \n",
      "69          69  E961CA44   26-02-92   28     27907.16        dollar   \n",
      "72          72  B25B3B8D   12-12-72   48     99193.98        dollar   \n",
      "89          89  C580AE41   01-06-68   52     96673.37        dollar   \n",
      "92          92  A07D5C92   20-09-90   30     99577.36        dollar   \n",
      "99          99  AC91D689   18-05-93   27     99490.61        dollar   \n",
      "\n",
      "    inv_amount    fund_A    fund_B    fund_C    fund_D account_opened  \\\n",
      "4      93230.0  12158.40  51281.00  13434.00  18383.00     14-05-2018   \n",
      "11     24567.0   2156.00   2891.00   4476.00   9144.00     06-05-2017   \n",
      "12     50812.0  18314.00   1477.00  29049.48   5539.00     12-08-2018   \n",
      "19         NaN  11828.00  13372.00   1039.00   5562.00     20-03-2018   \n",
      "22     24567.0   8206.00  15019.00   5559.60   6182.00     23-07-2018   \n",
      "35         NaN   3684.00  17635.00  11717.00  33493.00     14-04-2017   \n",
      "43     27531.0    314.00   6072.28  14163.00   7908.00     17-09-2018   \n",
      "44         NaN   9109.00   6706.00   2343.00   2282.00     05-06-2018   \n",
      "45     24567.0  10107.00    393.00    423.00  10008.00     28-11-2017   \n",
      "47     66796.0  33764.00   5042.00  10659.00  19237.41     04-03-2018   \n",
      "53         NaN  25595.00   7987.00  14098.00  13801.00     18-10-2018   \n",
      "58     24567.0  23761.00   4039.00  15610.00   5375.00     06-02-2018   \n",
      "65     70171.0  28615.00  21720.05  11906.00  10763.00     15-06-2018   \n",
      "69         NaN    995.00   3491.00   5476.00   1004.00     23-10-2017   \n",
      "72     24567.0  26237.00  21745.00  18440.00  16940.00     28-04-2018   \n",
      "89     68466.0   8489.36  28592.00   2439.00  30419.00     28-09-2018   \n",
      "92     60407.0   6467.00  20861.00   9861.00  26004.16     17-11-2017   \n",
      "99         NaN   2184.00  17918.00   6714.00   5333.00     08-01-2017   \n",
      "\n",
      "   last_transaction  \n",
      "4          19-07-18  \n",
      "11         15-01-19  \n",
      "12         04-01-20  \n",
      "19         15-11-19  \n",
      "22         07-08-18  \n",
      "35         05-08-18  \n",
      "43         05-02-20  \n",
      "44         08-12-18  \n",
      "45         01-05-19  \n",
      "47         25-09-18  \n",
      "53         21-07-18  \n",
      "58         12-09-18  \n",
      "65         28-08-18  \n",
      "69         11-07-19  \n",
      "72         04-07-19  \n",
      "89         17-09-18  \n",
      "92         16-01-20  \n",
      "99         04-08-19  \n"
     ]
    }
   ],
   "source": [
    "print(inconsistent_data)"
   ]
  },
  {
   "cell_type": "code",
   "execution_count": 31,
   "id": "60ac3249",
   "metadata": {},
   "outputs": [
    {
     "name": "stdout",
     "output_type": "stream",
     "text": [
      "Unnamed: 0          0\n",
      "cust_id             0\n",
      "birth_date          0\n",
      "Age                 0\n",
      "acct_amount         0\n",
      "acct_currency       0\n",
      "inv_amount          6\n",
      "fund_A              0\n",
      "fund_B              0\n",
      "fund_C              0\n",
      "fund_D              0\n",
      "account_opened      0\n",
      "last_transaction    0\n",
      "dtype: int64\n"
     ]
    }
   ],
   "source": [
    "#Question 4: Find the rows which contains missing value in banking dataframe\n",
    "# Print number of missing values in banking\n",
    "print(banking.isna().sum())"
   ]
  },
  {
   "cell_type": "code",
   "execution_count": 36,
   "id": "5f0f3f23",
   "metadata": {},
   "outputs": [],
   "source": [
    "# Isolate missing and non missing values of inv_amount\n",
    "missingdata=banking[banking['inv_amount'].isna()]\n",
    "non_missingdata=banking[~banking['inv_amount'].isna()]"
   ]
  },
  {
   "cell_type": "code",
   "execution_count": 37,
   "id": "f5e0d0e9",
   "metadata": {},
   "outputs": [
    {
     "name": "stdout",
     "output_type": "stream",
     "text": [
      "    Unnamed: 0   cust_id birth_date  Age  acct_amount acct_currency  \\\n",
      "0            0  870A9281   09-06-62   58     63523.31        dollar   \n",
      "1            1  166B05B0   16-12-62   58     38175.46        dollar   \n",
      "2            2  BFC13E88   12-09-90   34     59863.77        dollar   \n",
      "3            3  F2158F66   03-11-85   35     84132.10        dollar   \n",
      "4            4  7A73F334   17-05-90   30    145819.52        dollar   \n",
      "..         ...       ...        ...  ...          ...           ...   \n",
      "94          94  A731C34E   03-06-61   59     95352.02        dollar   \n",
      "95          95  CA507BA1   10-08-74   33     12209.84        dollar   \n",
      "96          96  B99CD662   12-12-89   31     92838.44        dollar   \n",
      "97          97  13770971   29-11-84   36     92750.87        dollar   \n",
      "98          98  93E78DA3   14-12-69   51     41942.23        dollar   \n",
      "\n",
      "    inv_amount   fund_A   fund_B   fund_C   fund_D account_opened  \\\n",
      "0      51295.0  30105.0   4138.0   1420.0  15632.0     09-02-2018   \n",
      "1      15050.0   4995.0    938.0   6696.0   2421.0     28-02-2019   \n",
      "2      24567.0  10323.0   4590.0   8469.0   1185.0     25-04-2018   \n",
      "3      23712.0   3908.0    492.0   6482.0  12830.0     11-07-2017   \n",
      "4      93230.0  12158.4  51281.0  13434.0  18383.0     14-05-2018   \n",
      "..         ...      ...      ...      ...      ...            ...   \n",
      "94     84065.0  12061.0  15742.0  35725.0  20537.0     13-11-2017   \n",
      "95      7515.0    190.0    931.0   1451.0   4943.0     26-05-2018   \n",
      "96     49089.0   2453.0   7892.0  31486.0   7258.0     05-04-2017   \n",
      "97     27962.0   3352.0   7547.0   8486.0   8577.0     16-08-2017   \n",
      "98     29662.0   1758.0  11174.0  11650.0   5080.0     10-09-2017   \n",
      "\n",
      "   last_transaction  \n",
      "0          22-02-19  \n",
      "1          31-10-18  \n",
      "2          02-04-18  \n",
      "3          08-11-18  \n",
      "4          19-07-18  \n",
      "..              ...  \n",
      "94         13-01-19  \n",
      "95         11-09-19  \n",
      "96         12-03-19  \n",
      "97         24-04-19  \n",
      "98         15-04-18  \n",
      "\n",
      "[94 rows x 13 columns]\n"
     ]
    }
   ],
   "source": [
    "print(non_missingdata)"
   ]
  },
  {
   "cell_type": "code",
   "execution_count": null,
   "id": "ef6704cd",
   "metadata": {},
   "outputs": [],
   "source": []
  }
 ],
 "metadata": {
  "kernelspec": {
   "display_name": "Python 3",
   "language": "python",
   "name": "python3"
  },
  "language_info": {
   "codemirror_mode": {
    "name": "ipython",
    "version": 3
   },
   "file_extension": ".py",
   "mimetype": "text/x-python",
   "name": "python",
   "nbconvert_exporter": "python",
   "pygments_lexer": "ipython3",
   "version": "3.8.8"
  }
 },
 "nbformat": 4,
 "nbformat_minor": 5
}
