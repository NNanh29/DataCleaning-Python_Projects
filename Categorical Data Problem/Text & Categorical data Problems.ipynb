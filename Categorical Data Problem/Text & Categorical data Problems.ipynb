{
 "cells": [
  {
   "cell_type": "code",
   "execution_count": 2,
   "id": "c567d6b4",
   "metadata": {},
   "outputs": [],
   "source": [
    "import pandas as pd\n",
    "airline=pd.read_csv(r'C:\\Users\\Ngoc Anh\\Downloads\\airlines_updated.csv')"
   ]
  },
  {
   "cell_type": "code",
   "execution_count": 3,
   "id": "e81290d1",
   "metadata": {},
   "outputs": [
    {
     "data": {
      "text/html": [
       "<div>\n",
       "<style scoped>\n",
       "    .dataframe tbody tr th:only-of-type {\n",
       "        vertical-align: middle;\n",
       "    }\n",
       "\n",
       "    .dataframe tbody tr th {\n",
       "        vertical-align: top;\n",
       "    }\n",
       "\n",
       "    .dataframe thead th {\n",
       "        text-align: right;\n",
       "    }\n",
       "</style>\n",
       "<table border=\"1\" class=\"dataframe\">\n",
       "  <thead>\n",
       "    <tr style=\"text-align: right;\">\n",
       "      <th></th>\n",
       "      <th>Unnamed: 0</th>\n",
       "      <th>id</th>\n",
       "      <th>day</th>\n",
       "      <th>airline</th>\n",
       "      <th>destination</th>\n",
       "      <th>dest_region</th>\n",
       "      <th>dest_size</th>\n",
       "      <th>boarding_area</th>\n",
       "      <th>dept_time</th>\n",
       "      <th>wait_min</th>\n",
       "      <th>cleanliness</th>\n",
       "      <th>safety</th>\n",
       "      <th>satisfaction</th>\n",
       "    </tr>\n",
       "  </thead>\n",
       "  <tbody>\n",
       "    <tr>\n",
       "      <th>0</th>\n",
       "      <td>0</td>\n",
       "      <td>1351</td>\n",
       "      <td>Tuesday</td>\n",
       "      <td>UNITED INTL</td>\n",
       "      <td>KANSAI</td>\n",
       "      <td>Asia</td>\n",
       "      <td>Hub</td>\n",
       "      <td>Gates 91-102</td>\n",
       "      <td>31-12-18</td>\n",
       "      <td>115</td>\n",
       "      <td>Clean</td>\n",
       "      <td>Neutral</td>\n",
       "      <td>Very satisfied</td>\n",
       "    </tr>\n",
       "    <tr>\n",
       "      <th>1</th>\n",
       "      <td>1</td>\n",
       "      <td>373</td>\n",
       "      <td>Friday</td>\n",
       "      <td>ALASKA</td>\n",
       "      <td>SAN JOSE DEL CABO</td>\n",
       "      <td>Canada/Mexico</td>\n",
       "      <td>Small</td>\n",
       "      <td>Gates 50-59</td>\n",
       "      <td>31-12-18</td>\n",
       "      <td>135</td>\n",
       "      <td>Clean</td>\n",
       "      <td>Very safe</td>\n",
       "      <td>Very satisfied</td>\n",
       "    </tr>\n",
       "    <tr>\n",
       "      <th>2</th>\n",
       "      <td>2</td>\n",
       "      <td>2820</td>\n",
       "      <td>Thursday</td>\n",
       "      <td>DELTA</td>\n",
       "      <td>LOS ANGELES</td>\n",
       "      <td>West US</td>\n",
       "      <td>Hub</td>\n",
       "      <td>Gates 40-48</td>\n",
       "      <td>31-12-18</td>\n",
       "      <td>70</td>\n",
       "      <td>Average</td>\n",
       "      <td>Somewhat safe</td>\n",
       "      <td>Neutral</td>\n",
       "    </tr>\n",
       "    <tr>\n",
       "      <th>3</th>\n",
       "      <td>3</td>\n",
       "      <td>1157</td>\n",
       "      <td>Tuesday</td>\n",
       "      <td>SOUTHWEST</td>\n",
       "      <td>LOS ANGELES</td>\n",
       "      <td>West US</td>\n",
       "      <td>Hub</td>\n",
       "      <td>Gates 20-39</td>\n",
       "      <td>31-12-18</td>\n",
       "      <td>190</td>\n",
       "      <td>Clean</td>\n",
       "      <td>Very safe</td>\n",
       "      <td>Somewhat satsified</td>\n",
       "    </tr>\n",
       "    <tr>\n",
       "      <th>4</th>\n",
       "      <td>4</td>\n",
       "      <td>2992</td>\n",
       "      <td>Wednesday</td>\n",
       "      <td>AMERICAN</td>\n",
       "      <td>MIAMI</td>\n",
       "      <td>East US</td>\n",
       "      <td>Hub</td>\n",
       "      <td>Gates 50-59</td>\n",
       "      <td>31-12-18</td>\n",
       "      <td>559</td>\n",
       "      <td>Somewhat clean</td>\n",
       "      <td>Very safe</td>\n",
       "      <td>Somewhat satsified</td>\n",
       "    </tr>\n",
       "  </tbody>\n",
       "</table>\n",
       "</div>"
      ],
      "text/plain": [
       "   Unnamed: 0    id        day      airline        destination    dest_region  \\\n",
       "0           0  1351    Tuesday  UNITED INTL             KANSAI           Asia   \n",
       "1           1   373     Friday       ALASKA  SAN JOSE DEL CABO  Canada/Mexico   \n",
       "2           2  2820   Thursday        DELTA        LOS ANGELES        West US   \n",
       "3           3  1157    Tuesday    SOUTHWEST        LOS ANGELES        West US   \n",
       "4           4  2992  Wednesday     AMERICAN              MIAMI        East US   \n",
       "\n",
       "  dest_size boarding_area dept_time  wait_min     cleanliness         safety  \\\n",
       "0       Hub  Gates 91-102  31-12-18       115           Clean        Neutral   \n",
       "1     Small   Gates 50-59  31-12-18       135           Clean      Very safe   \n",
       "2       Hub   Gates 40-48  31-12-18        70         Average  Somewhat safe   \n",
       "3       Hub   Gates 20-39  31-12-18       190           Clean      Very safe   \n",
       "4       Hub   Gates 50-59  31-12-18       559  Somewhat clean      Very safe   \n",
       "\n",
       "         satisfaction  \n",
       "0      Very satisfied  \n",
       "1      Very satisfied  \n",
       "2             Neutral  \n",
       "3  Somewhat satsified  \n",
       "4  Somewhat satsified  "
      ]
     },
     "execution_count": 3,
     "metadata": {},
     "output_type": "execute_result"
    }
   ],
   "source": [
    "airline.head()"
   ]
  },
  {
   "cell_type": "code",
   "execution_count": 4,
   "id": "ffe57e8e",
   "metadata": {},
   "outputs": [],
   "source": [
    "category=pd.read_csv(r'C:\\Users\\Ngoc Anh\\Downloads\\categories.csv')"
   ]
  },
  {
   "cell_type": "code",
   "execution_count": 6,
   "id": "e3c86bff",
   "metadata": {},
   "outputs": [
    {
     "data": {
      "text/html": [
       "<div>\n",
       "<style scoped>\n",
       "    .dataframe tbody tr th:only-of-type {\n",
       "        vertical-align: middle;\n",
       "    }\n",
       "\n",
       "    .dataframe tbody tr th {\n",
       "        vertical-align: top;\n",
       "    }\n",
       "\n",
       "    .dataframe thead th {\n",
       "        text-align: right;\n",
       "    }\n",
       "</style>\n",
       "<table border=\"1\" class=\"dataframe\">\n",
       "  <thead>\n",
       "    <tr style=\"text-align: right;\">\n",
       "      <th></th>\n",
       "      <th>cleanliness</th>\n",
       "      <th>safety</th>\n",
       "      <th>satisfaction</th>\n",
       "    </tr>\n",
       "  </thead>\n",
       "  <tbody>\n",
       "    <tr>\n",
       "      <th>0</th>\n",
       "      <td>Clean</td>\n",
       "      <td>Neutral</td>\n",
       "      <td>Very satisfied</td>\n",
       "    </tr>\n",
       "    <tr>\n",
       "      <th>1</th>\n",
       "      <td>Average</td>\n",
       "      <td>Very safe</td>\n",
       "      <td>Neutral</td>\n",
       "    </tr>\n",
       "    <tr>\n",
       "      <th>2</th>\n",
       "      <td>Somewhat clean</td>\n",
       "      <td>Somewhat safe</td>\n",
       "      <td>Somewhat satisfied</td>\n",
       "    </tr>\n",
       "    <tr>\n",
       "      <th>3</th>\n",
       "      <td>Somewhat dirty</td>\n",
       "      <td>Very unsafe</td>\n",
       "      <td>Somewhat unsatisfied</td>\n",
       "    </tr>\n",
       "    <tr>\n",
       "      <th>4</th>\n",
       "      <td>Dirty</td>\n",
       "      <td>Somewhat unsafe</td>\n",
       "      <td>Very unsatisfied</td>\n",
       "    </tr>\n",
       "  </tbody>\n",
       "</table>\n",
       "</div>"
      ],
      "text/plain": [
       "      cleanliness           safety          satisfaction\n",
       "0           Clean          Neutral        Very satisfied\n",
       "1         Average        Very safe               Neutral\n",
       "2  Somewhat clean    Somewhat safe    Somewhat satisfied\n",
       "3  Somewhat dirty      Very unsafe  Somewhat unsatisfied\n",
       "4           Dirty  Somewhat unsafe      Very unsatisfied"
      ]
     },
     "execution_count": 6,
     "metadata": {},
     "output_type": "execute_result"
    }
   ],
   "source": [
    "category.head()"
   ]
  },
  {
   "cell_type": "code",
   "execution_count": 7,
   "id": "2da84762",
   "metadata": {},
   "outputs": [
    {
     "name": "stdout",
     "output_type": "stream",
     "text": [
      "['Clean' 'Average' 'Somewhat clean' 'Unacceptable' 'Somewhat dirty'\n",
      " 'Dirty']\n"
     ]
    }
   ],
   "source": [
    "#Question1: Find inconsistent values in Cleanliness, Safety, Satisfaction referenced category and drop them\n",
    "\n",
    "#Print unique values of cleanliness, safety, satisfaction\n",
    "print(airline['cleanliness'].unique())"
   ]
  },
  {
   "cell_type": "code",
   "execution_count": 8,
   "id": "36a0497c",
   "metadata": {},
   "outputs": [
    {
     "name": "stdout",
     "output_type": "stream",
     "text": [
      "['Neutral' 'Very safe' 'Somewhat safe' 'Very unsafe' 'Somewhat unsafe']\n"
     ]
    }
   ],
   "source": [
    "print(airline['safety'].unique())"
   ]
  },
  {
   "cell_type": "code",
   "execution_count": 10,
   "id": "56e90a14",
   "metadata": {},
   "outputs": [
    {
     "name": "stdout",
     "output_type": "stream",
     "text": [
      "['Very satisfied' 'Neutral' 'Somewhat satsified' 'Somewhat unsatisfied'\n",
      " 'Very unsatisfied']\n"
     ]
    }
   ],
   "source": [
    "print(airline['satisfaction'].unique())"
   ]
  },
  {
   "cell_type": "code",
   "execution_count": 12,
   "id": "0e13658f",
   "metadata": {},
   "outputs": [
    {
     "name": "stdout",
     "output_type": "stream",
     "text": [
      "{'Unacceptable'}\n"
     ]
    }
   ],
   "source": [
    "#Find inconsistent value in cleanliness\n",
    "inconsistent = set(airline['cleanliness']).difference(category['cleanliness'])\n",
    "print(inconsistent_row)"
   ]
  },
  {
   "cell_type": "code",
   "execution_count": 19,
   "id": "8f30b7a5",
   "metadata": {},
   "outputs": [
    {
     "name": "stdout",
     "output_type": "stream",
     "text": [
      "      Unnamed: 0    id       day           airline      destination  \\\n",
      "6              6  2578  Saturday           JETBLUE       LONG BEACH   \n",
      "21            22  1373   Tuesday       UNITED INTL         SHANGHAI   \n",
      "45            48  1140   Tuesday         SOUTHWEST      LOS ANGELES   \n",
      "80            88  3202    Sunday    CATHAY PACIFIC        HONG KONG   \n",
      "110          124  3052   Tuesday          AMERICAN            MIAMI   \n",
      "140          160  1724    Monday        AIR CANADA          TORONTO   \n",
      "160          181  1261  Thursday     CHINA EASTERN         SHANGHAI   \n",
      "219          246   810    Sunday            ALASKA        BALTIMORE   \n",
      "255          292  2921    Friday  TURKISH AIRLINES         ISTANBUL   \n",
      "1702        1937  1805    Monday       UNITED INTL  LONDON HEATHROW   \n",
      "\n",
      "        dest_region   dest_size boarding_area dept_time  wait_min  \\\n",
      "6           West US       Small    Gates 1-12  31-12-18        63   \n",
      "21             Asia    Hub       Gates 91-102  31-12-18       145   \n",
      "45          West US         Hub   Gates 20-39  31-12-18       415   \n",
      "80             Asia         Hub    Gates 1-12  01-01-18       210   \n",
      "110         East US         Hub   Gates 50-59  31-12-18       125   \n",
      "140   Canada/Mexico         Hub  Gates 91-102  31-12-18       150   \n",
      "160            Asia         Hub    Gates 1-12  31-12-18       195   \n",
      "219         EAST US      Medium   Gates 50-59  31-12-18       170   \n",
      "255     Middle East         Hub  Gates 91-102  31-12-18       235   \n",
      "1702         Europe         Hub  Gates 91-102  31-12-18       215   \n",
      "\n",
      "       cleanliness         safety        satisfaction  \n",
      "6     Unacceptable      Very safe  Somewhat satsified  \n",
      "21    Unacceptable      Very safe  Somewhat satsified  \n",
      "45    Unacceptable      Very safe  Somewhat satsified  \n",
      "80    Unacceptable        Neutral  Somewhat satsified  \n",
      "110   Unacceptable  Somewhat safe  Somewhat satsified  \n",
      "140   Unacceptable      Very safe      Very satisfied  \n",
      "160   Unacceptable      Very safe  Somewhat satsified  \n",
      "219   Unacceptable  Somewhat safe             Neutral  \n",
      "255   Unacceptable      Very safe      Very satisfied  \n",
      "1702  Unacceptable      Very safe      Very satisfied  \n"
     ]
    }
   ],
   "source": [
    "#Print rows with inconsistent category\n",
    "inconsistent_row=airline['cleanliness'].isin(inconsistent)\n",
    "print(airline[inconsistent_row])"
   ]
  },
  {
   "cell_type": "code",
   "execution_count": 21,
   "id": "848ce722",
   "metadata": {},
   "outputs": [],
   "source": [
    "consistent_row=airline[~inconsistent_row]"
   ]
  },
  {
   "cell_type": "code",
   "execution_count": 22,
   "id": "8db60543",
   "metadata": {},
   "outputs": [
    {
     "data": {
      "text/plain": [
       "array(['Asia', 'Canada/Mexico', 'West US', 'East US', 'Midwest US',\n",
       "       'EAST US', 'Middle East', 'Europe', 'eur', 'Central/South America',\n",
       "       'Australia/New Zealand', 'middle east'], dtype=object)"
      ]
     },
     "execution_count": 22,
     "metadata": {},
     "output_type": "execute_result"
    }
   ],
   "source": [
    "#Question 2: Consolidate the form for values in dest_region and dest_size\n",
    "\n",
    "#Part1: dest_region\n",
    "#Select unique value from dest_region\n",
    "airline['dest_region'].unique()"
   ]
  },
  {
   "cell_type": "code",
   "execution_count": 26,
   "id": "3dd9f0e1",
   "metadata": {},
   "outputs": [],
   "source": [
    "#Change the capitalization of all values of dest_region to lowercase\n",
    "airline['dest_region']=airline['dest_region'].str.lower()"
   ]
  },
  {
   "cell_type": "code",
   "execution_count": 24,
   "id": "8270155d",
   "metadata": {},
   "outputs": [],
   "source": [
    "#Replace \"eur\" with \"europe\"\n",
    "airline['dest_region']=airline['dest_region'].replace({'eur':'europe'})"
   ]
  },
  {
   "cell_type": "code",
   "execution_count": 27,
   "id": "134ff088",
   "metadata": {},
   "outputs": [
    {
     "data": {
      "text/plain": [
       "west us                  864\n",
       "east us                  436\n",
       "europe                   351\n",
       "midwest us               251\n",
       "asia                     226\n",
       "canada/mexico            198\n",
       "middle east               69\n",
       "australia/new zealand     60\n",
       "central/south america     22\n",
       "Name: dest_region, dtype: int64"
      ]
     },
     "execution_count": 27,
     "metadata": {},
     "output_type": "execute_result"
    }
   ],
   "source": [
    "#Check the result\n",
    "airline['dest_region'].value_counts()"
   ]
  },
  {
   "cell_type": "code",
   "execution_count": 28,
   "id": "1bbf067c",
   "metadata": {},
   "outputs": [
    {
     "data": {
      "text/plain": [
       "array(['Hub', 'Small', '    Hub', 'Medium', 'Large', 'Hub     ',\n",
       "       '    Small', 'Medium     ', '    Medium', 'Small     ',\n",
       "       '    Large', 'Large     '], dtype=object)"
      ]
     },
     "execution_count": 28,
     "metadata": {},
     "output_type": "execute_result"
    }
   ],
   "source": [
    "#Part2: dest_size\n",
    "\n",
    "#Select unique values from dest_size\n",
    "airline['dest_size'].unique()"
   ]
  },
  {
   "cell_type": "code",
   "execution_count": 32,
   "id": "37431265",
   "metadata": {},
   "outputs": [],
   "source": [
    "#Remove spaces from dest_size\n",
    "airline['dest_size']=airline['dest_size'].str.strip()"
   ]
  },
  {
   "cell_type": "code",
   "execution_count": 33,
   "id": "1f116761",
   "metadata": {},
   "outputs": [
    {
     "data": {
      "text/plain": [
       "array(['Hub', 'Small', 'Medium', 'Large'], dtype=object)"
      ]
     },
     "execution_count": 33,
     "metadata": {},
     "output_type": "execute_result"
    }
   ],
   "source": [
    "#Check the result\n",
    "airline['dest_size'].unique()"
   ]
  },
  {
   "cell_type": "code",
   "execution_count": 34,
   "id": "208500c6",
   "metadata": {},
   "outputs": [],
   "source": [
    "#Question 3. Create the ranges and labels for the wait_type from wait_min mentioned in the description below: \n",
    "# wait_type: 'short' for 0-60 min, 'medium' for 60-180 and long for 180+\n",
    "\n",
    "import numpy as np"
   ]
  },
  {
   "cell_type": "code",
   "execution_count": 37,
   "id": "7a9c97b2",
   "metadata": {},
   "outputs": [],
   "source": [
    "ranges=[0,60,180,np.inf]\n",
    "names=['short','medium','long']\n",
    "airline['wait_type']=pd.cut(airline['wait_min'],bins=ranges,labels=names)"
   ]
  },
  {
   "cell_type": "code",
   "execution_count": 41,
   "id": "e7b47be0",
   "metadata": {},
   "outputs": [
    {
     "data": {
      "text/html": [
       "<div>\n",
       "<style scoped>\n",
       "    .dataframe tbody tr th:only-of-type {\n",
       "        vertical-align: middle;\n",
       "    }\n",
       "\n",
       "    .dataframe tbody tr th {\n",
       "        vertical-align: top;\n",
       "    }\n",
       "\n",
       "    .dataframe thead th {\n",
       "        text-align: right;\n",
       "    }\n",
       "</style>\n",
       "<table border=\"1\" class=\"dataframe\">\n",
       "  <thead>\n",
       "    <tr style=\"text-align: right;\">\n",
       "      <th></th>\n",
       "      <th>wait_type</th>\n",
       "      <th>wait_min</th>\n",
       "    </tr>\n",
       "  </thead>\n",
       "  <tbody>\n",
       "    <tr>\n",
       "      <th>0</th>\n",
       "      <td>medium</td>\n",
       "      <td>115</td>\n",
       "    </tr>\n",
       "    <tr>\n",
       "      <th>1</th>\n",
       "      <td>medium</td>\n",
       "      <td>135</td>\n",
       "    </tr>\n",
       "    <tr>\n",
       "      <th>2</th>\n",
       "      <td>medium</td>\n",
       "      <td>70</td>\n",
       "    </tr>\n",
       "    <tr>\n",
       "      <th>3</th>\n",
       "      <td>long</td>\n",
       "      <td>190</td>\n",
       "    </tr>\n",
       "    <tr>\n",
       "      <th>4</th>\n",
       "      <td>long</td>\n",
       "      <td>559</td>\n",
       "    </tr>\n",
       "    <tr>\n",
       "      <th>...</th>\n",
       "      <td>...</td>\n",
       "      <td>...</td>\n",
       "    </tr>\n",
       "    <tr>\n",
       "      <th>2472</th>\n",
       "      <td>long</td>\n",
       "      <td>280</td>\n",
       "    </tr>\n",
       "    <tr>\n",
       "      <th>2473</th>\n",
       "      <td>medium</td>\n",
       "      <td>165</td>\n",
       "    </tr>\n",
       "    <tr>\n",
       "      <th>2474</th>\n",
       "      <td>medium</td>\n",
       "      <td>92</td>\n",
       "    </tr>\n",
       "    <tr>\n",
       "      <th>2475</th>\n",
       "      <td>medium</td>\n",
       "      <td>95</td>\n",
       "    </tr>\n",
       "    <tr>\n",
       "      <th>2476</th>\n",
       "      <td>long</td>\n",
       "      <td>220</td>\n",
       "    </tr>\n",
       "  </tbody>\n",
       "</table>\n",
       "<p>2477 rows × 2 columns</p>\n",
       "</div>"
      ],
      "text/plain": [
       "     wait_type  wait_min\n",
       "0       medium       115\n",
       "1       medium       135\n",
       "2       medium        70\n",
       "3         long       190\n",
       "4         long       559\n",
       "...        ...       ...\n",
       "2472      long       280\n",
       "2473    medium       165\n",
       "2474    medium        92\n",
       "2475    medium        95\n",
       "2476      long       220\n",
       "\n",
       "[2477 rows x 2 columns]"
      ]
     },
     "execution_count": 41,
     "metadata": {},
     "output_type": "execute_result"
    }
   ],
   "source": [
    "airline[['wait_type','wait_min']]"
   ]
  },
  {
   "cell_type": "code",
   "execution_count": 46,
   "id": "56d98201",
   "metadata": {},
   "outputs": [],
   "source": [
    "#Question 4: Create the mapping dictionary mapping weekdays to 'weekday' and weekend days to 'weekend'\n",
    "\n",
    "mapping={'Monday':'weekday', 'Tuesday':'weekday', 'Wednesday': 'weekday', \n",
    "            'Thursday': 'weekday', 'Friday': 'weekday', \n",
    "            'Saturday': 'weekend', 'Sunday': 'weekend'}\n",
    "airline['day']=airline['day'].replace(mapping)"
   ]
  },
  {
   "cell_type": "code",
   "execution_count": 48,
   "id": "e1c7342a",
   "metadata": {},
   "outputs": [
    {
     "data": {
      "text/plain": [
       "0       weekday\n",
       "1       weekday\n",
       "2       weekday\n",
       "3       weekday\n",
       "4       weekday\n",
       "         ...   \n",
       "2472    weekday\n",
       "2473    weekday\n",
       "2474    weekday\n",
       "2475    weekday\n",
       "2476    weekend\n",
       "Name: day, Length: 2477, dtype: object"
      ]
     },
     "execution_count": 48,
     "metadata": {},
     "output_type": "execute_result"
    }
   ],
   "source": [
    "airline['day']"
   ]
  },
  {
   "cell_type": "code",
   "execution_count": null,
   "id": "bf1c1962",
   "metadata": {},
   "outputs": [],
   "source": []
  }
 ],
 "metadata": {
  "kernelspec": {
   "display_name": "Python 3",
   "language": "python",
   "name": "python3"
  },
  "language_info": {
   "codemirror_mode": {
    "name": "ipython",
    "version": 3
   },
   "file_extension": ".py",
   "mimetype": "text/x-python",
   "name": "python",
   "nbconvert_exporter": "python",
   "pygments_lexer": "ipython3",
   "version": "3.8.8"
  }
 },
 "nbformat": 4,
 "nbformat_minor": 5
}
